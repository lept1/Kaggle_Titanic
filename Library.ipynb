{
 "cells": [
  {
   "cell_type": "code",
   "execution_count": 281,
   "metadata": {},
   "outputs": [],
   "source": [
    "import pandas as pd\n",
    "import numpy as np\n",
    "\n",
    "from sklearn.compose import ColumnTransformer\n",
    "from sklearn.datasets import fetch_openml\n",
    "from sklearn.pipeline import Pipeline\n",
    "from sklearn.impute import SimpleImputer\n",
    "from sklearn.preprocessing import StandardScaler, OneHotEncoder\n",
    "\n",
    "from sklearn.neighbors import KNeighborsClassifier\n",
    "from sklearn.naive_bayes import GaussianNB, MultinomialNB\n",
    "from sklearn.linear_model import LogisticRegression\n",
    "from sklearn.svm import SVC\n",
    "from sklearn.tree import DecisionTreeClassifier\n",
    "from sklearn.ensemble import RandomForestClassifier\n",
    "from sklearn.neural_network import MLPClassifier\n",
    "from sklearn.ensemble import AdaBoostClassifier,GradientBoostingClassifier\n",
    "\n",
    "from collections import OrderedDict\n",
    "from sklearn.model_selection import GridSearchCV\n",
    "from sklearn.metrics import make_scorer\n",
    "from sklearn.metrics import accuracy_score,precision_score,recall_score,f1_score\n",
    "from sklearn import metrics\n",
    "from sklearn.metrics import confusion_matrix\n",
    "from sklearn.model_selection import cross_val_score\n",
    "from sklearn.model_selection import train_test_split\n",
    "\n",
    "\n",
    "import seaborn as sns\n",
    "import matplotlib.pyplot as plt\n",
    "\n",
    "\"\"\"\n",
    "We are going to try different model and choose the one with best score\n",
    "\"\"\"\n",
    "\n",
    "models = OrderedDict([\n",
    "          ('Knn', KNeighborsClassifier()),\n",
    "          ('Logistic Regression', LogisticRegression(max_iter=10000)),\n",
    "          ('Linear SVM', SVC(kernel='linear', probability=True)),\n",
    "          ('Poly SVM', SVC(kernel='poly',  probability=True)),\n",
    "          ('RBF SVM', SVC(kernel='rbf',  probability=True)),\n",
    "          ('Classification Tree', DecisionTreeClassifier()),\n",
    "          ('Random Forest', RandomForestClassifier()),\n",
    "          ('MLP', MLPClassifier(activation='tanh',solver='adam', max_iter=10000,\n",
    "                                                  learning_rate_init=0.001, random_state=42)),\n",
    "          ('AdaBoost',AdaBoostClassifier(random_state=42,base_estimator = RandomForestClassifier())),\n",
    "          ('GBoost',GradientBoostingClassifier())\n",
    "          \n",
    "          ])\n",
    "\n",
    "\n",
    "def training_classification(X,y,model='Logistic Regression',cv=5,score='accuracy_score'):\n",
    "    # X      : array-like or sparse matrix, shape (n_samples, n_features)\n",
    "    # y      : array-like of shape (n_samples,)\n",
    "    # model  : string, classification model ::\n",
    "    #                - Logistic Regression (default)\n",
    "    #                - Knn (K - nearest neighbours)\n",
    "    #                - Linear SVM\n",
    "    #                - Poly SVM\n",
    "    #                - RBF SVM\n",
    "    #                - Classification Tree\n",
    "    #                - Random Forest\n",
    "    #                - MLP (Multi Layer Perceptron)\n",
    "    #                - AdaBoost\n",
    "    #                - GBoost (Gradient Boosting)\n",
    "    # cv     : int, cross-validation generator, default=5\n",
    "    # score  : string, strategy to evaluate the performance of the cross-validated model on the test set ::\n",
    "    #                - f1_score\n",
    "    #                - accuracy_score\n",
    "    #                - precision_score\n",
    "\n",
    "    \n",
    "    \n",
    "    scorers = {'f1_score': make_scorer(f1_score),\n",
    "              'accuracy_score': make_scorer(accuracy_score),\n",
    "              'precision_score': make_scorer(precision_score)}\n",
    "    \n",
    "    if model=='Knn':\n",
    "        n_neighbors=np.arange(1,30,1)\n",
    "        knn=models[model]\n",
    "        gs = GridSearchCV(knn,param_grid={\"n_neighbors\": n_neighbors},scoring=scorers,refit=score,cv=cv,n_jobs=-3,verbose=2)\n",
    "        gs.fit(X, y)\n",
    "        return gs, gs.best_params_, gs.best_score_\n",
    "    \n",
    "    if model=='Gauss Naive Bayes':\n",
    "        var_smoothing=np.logspace(-10,-3,30)\n",
    "        gnb=models[model]\n",
    "        gs = GridSearchCV(gnb,param_grid={\"var_smoothing\": var_smoothing},scoring=scorers,refit=score,cv=cv,n_jobs=-3,verbose=2)\n",
    "        if sparse.issparse(X):\n",
    "            Z=X.toarray()\n",
    "            gs.fit(Z, y)\n",
    "        else:\n",
    "            gs.fit(X, y)\n",
    "        return gs, gs.best_params_, gs.best_score_\n",
    "    \n",
    "    if model=='Multi Naive Bayes':\n",
    "        alpha=np.logspace(-3,0,20)\n",
    "        mnb=models[model]\n",
    "        gs = GridSearchCV(mnb,param_grid={\"alpha\": alpha},scoring=scorers,refit=score,cv=cv,n_jobs=-3,verbose=2)\n",
    "        gs.fit(X, y)\n",
    "        return gs, gs.best_params_, gs.best_score_\n",
    "    \n",
    "    if model=='Logistic Regression':\n",
    "        C  = np.logspace(-3,2,10)\n",
    "        lr = models[model]\n",
    "        gs = GridSearchCV(lr,param_grid={\"C\": C},scoring=scorers,refit=score,cv=cv,n_jobs=-3,verbose=2)\n",
    "        gs.fit(X, y)\n",
    "        return gs, gs.best_params_, gs.best_score_\n",
    "    \n",
    "    if model=='Linear SVM':\n",
    "        C=np.logspace(-3,2,10)\n",
    "        lsvm=models[model]\n",
    "        gs = GridSearchCV(lsvm,param_grid={\"C\": C},scoring=scorers,refit=score,cv=cv,n_jobs=-3,verbose=2)\n",
    "        gs.fit(X, y)\n",
    "        return gs, gs.best_params_, gs.best_score_\n",
    "    \n",
    "    if model=='RBF SVM':\n",
    "        gamma=np.logspace(-4,1,10)\n",
    "        C=np.logspace(-3,3,10)\n",
    "        rsvm=models[model]\n",
    "        gs = GridSearchCV(rsvm,param_grid={\"C\": C,\"gamma\":gamma},scoring=scorers,refit=score,cv=cv,n_jobs=-3,verbose=2)\n",
    "        gs.fit(X, y)\n",
    "        return gs, gs.best_params_, gs.best_score_\n",
    "    \n",
    "    if model=='Classification Tree':\n",
    "        max_depth=np.arange(1,50,1)\n",
    "        ct=models[model]\n",
    "        gs = GridSearchCV(ct,param_grid={\"max_depth\": max_depth},scoring=scorers,refit=score,cv=cv,n_jobs=-3,verbose=2)\n",
    "        gs.fit(X, y)\n",
    "        return gs, gs.best_params_, gs.best_score_\n",
    "    \n",
    "    if model=='Random Forest':\n",
    "        max_depth=np.arange(1,50,1)\n",
    "        n_estimators=np.arange(1,50,1)\n",
    "        rf=models[model]\n",
    "        gs = GridSearchCV(rf,param_grid={\"max_depth\": max_depth,\"n_estimators\": n_estimators},scoring=scorers,refit=score,cv=cv,n_jobs=-3,verbose=2)\n",
    "        gs.fit(X, y)\n",
    "        return gs, gs.best_params_, gs.best_score_\n",
    "    \n",
    "    if model=='MLP':\n",
    "        hidden_layer_sizes=[(12,4,2),(6,5,4,3,2),(7,6,5,4,3,2),(8,7,6,5,4,3,2)]\n",
    "        mlp=models[model]\n",
    "        gs = GridSearchCV(mlp,param_grid={\"hidden_layer_sizes\": hidden_layer_sizes},scoring=scorers,refit='accuracy_score',cv=cv,n_jobs=-3,verbose=5)\n",
    "        gs.fit(X, y)\n",
    "        return gs, gs.best_params_, gs.best_score_\n",
    "    \n",
    "    if model=='AdaBoost':\n",
    "        param_grid = {\"base_estimator__criterion\" : [\"gini\", \"entropy\"],\n",
    "              \"n_estimators\": np.arange(1,50,1)\n",
    "             }\n",
    "        ab=models[model]\n",
    "        gs = GridSearchCV(ab,param_grid=param_grid,scoring=scorers,refit='accuracy_score',cv=cv,n_jobs=-3,verbose=5)\n",
    "        gs.fit(X, y)\n",
    "        return gs, gs.best_params_, gs.best_score_\n",
    "    \n",
    "    if model=='GBoost':\n",
    "        param_grid = {\"n_estimators\": np.arange(1,100,2)}\n",
    "        gb=models[model]\n",
    "        gs = GridSearchCV(gb,param_grid=param_grid,scoring=scorers,refit='accuracy_score',cv=cv,n_jobs=-3,verbose=5)\n",
    "        gs.fit(X, y)\n",
    "        return gs, gs.best_params_, gs.best_score_\n",
    "    \n",
    "\n",
    "    \n",
    "def features_identification(X, min_fraction_unique=0.005):\n",
    "    # X : pd.DataFrame, dataframe\n",
    "\n",
    "    unique_fraction      = X.apply(lambda col: len(pd.unique(col))/len(col))\n",
    "    categorical_features = unique_fraction.index[unique_fraction<min_fraction_unique].tolist()\n",
    "    numerical_features   = unique_fraction.index[unique_fraction>=min_fraction_unique].tolist()\n",
    "\n",
    "    return categorical_features,numerical_features    \n",
    "    \n",
    "    \n",
    "def preprocessing(X):\n",
    "    # X : pandas dataframe\n",
    "    \n",
    "    categorical_features, numeric_features  = features_identification(X)\n",
    "    \n",
    "    numeric_transformer = Pipeline(steps=[('imputer_numeric', SimpleImputer(strategy='mean')),\n",
    "                                            ('scaler', StandardScaler())])\n",
    "\n",
    "    categorical_transformer = Pipeline(steps=[('imputer_categorical', SimpleImputer(strategy='most_frequent')),\n",
    "                                                ('encoder', OneHotEncoder(handle_unknown='ignore'))])\n",
    "\n",
    "    preprocessor = ColumnTransformer(\n",
    "    transformers=[\n",
    "        ('num', numeric_transformer, numeric_features),\n",
    "        ('cat', categorical_transformer, categorical_features)])\n",
    "    \n",
    "    return preprocessor\n",
    "\n",
    "\n",
    "def graph(X,label):\n",
    "    \n",
    "    cmap1 = sns.color_palette(\"crest\", as_cmap=True)\n",
    "    \n",
    "    categorical_features, numeric_features  = features_identification(X)\n",
    "    i=0\n",
    "    for cat in categorical_features:\n",
    "        shape_color=len(X[cat].unique())\n",
    "        plt.figure(i)\n",
    "        sns.countplot(y=label, hue=cat, data=X, palette=sns.color_palette(\"YlGn\", shape_color))\n",
    "        i+=1\n",
    "    for num in numeric_features:\n",
    "        shape_color=len(X[label].unique())\n",
    "        X.pivot(columns=[label])[num].plot(kind = 'hist', stacked=True,bins=80,figsize=(15,7),color=sns.color_palette(\"YlGn\", shape_color))\n",
    "        plt.xlabel(num)\n",
    "        \n",
    "        \n",
    "        \n",
    "        \n",
    "        \n",
    "\n",
    "\n",
    "def plot_confusion_matrix(cm,target_names,title='Confusion matrix', cmap=None,normalize=True):\n",
    "    \n",
    "    import matplotlib.pyplot as plt\n",
    "    import numpy as np\n",
    "    import itertools\n",
    "\n",
    "    if cmap is None:\n",
    "        cmap = plt.get_cmap('Blues')\n",
    "\n",
    "    plt.figure(figsize=(8, 6))\n",
    "    plt.imshow(cm, interpolation='nearest', cmap=cmap)\n",
    "    plt.title(title)\n",
    "    plt.colorbar()\n",
    "\n",
    "    if target_names is not None:\n",
    "        tick_marks = np.arange(len(target_names))\n",
    "        plt.xticks(tick_marks, target_names, rotation=45)\n",
    "        plt.yticks(tick_marks, target_names)\n",
    "\n",
    "    if normalize:\n",
    "        cm = cm.astype('float') / cm.sum(axis=1)[:, np.newaxis]\n",
    "\n",
    "\n",
    "    thresh = cm.max() / 1.5 if normalize else cm.max() / 2\n",
    "    for i, j in itertools.product(range(cm.shape[0]), range(cm.shape[1])):\n",
    "        if normalize:\n",
    "            plt.text(j, i, \"{:0.4f}\".format(cm[i, j]),\n",
    "                     horizontalalignment=\"center\",\n",
    "                     color=\"white\" if cm[i, j] > thresh else \"black\")\n",
    "        else:\n",
    "            plt.text(j, i, \"{:,}\".format(cm[i, j]),\n",
    "                     horizontalalignment=\"center\",\n",
    "                     color=\"white\" if cm[i, j] > thresh else \"black\")\n",
    "\n",
    "\n",
    "    plt.tight_layout()\n",
    "    plt.ylabel('True label')\n",
    "    plt.show()\n"
   ]
  },
  {
   "cell_type": "code",
   "execution_count": 282,
   "metadata": {},
   "outputs": [],
   "source": [
    "X=pd.read_csv(\"train.csv\", encoding=\"utf8\" )\n",
    "X= X.drop(columns=['Name','PassengerId','Ticket','Cabin'])\n",
    "test_data=pd.read_csv(\"test.csv\", encoding=\"utf8\" )"
   ]
  },
  {
   "cell_type": "code",
   "execution_count": 283,
   "metadata": {},
   "outputs": [
    {
     "data": {
      "text/plain": [
       "2"
      ]
     },
     "execution_count": 283,
     "metadata": {},
     "output_type": "execute_result"
    }
   ],
   "source": [
    "len(X['Survived'].unique())"
   ]
  },
  {
   "cell_type": "code",
   "execution_count": 284,
   "metadata": {
    "scrolled": false
   },
   "outputs": [
    {
     "data": {
      "image/png": "[encoded data removed]",
      "text/plain": [
       "<Figure size 432x288 with 1 Axes>"
      ]
     },
     "metadata": {
      "needs_background": "light"
     },
     "output_type": "display_data"
    },
    {
     "data": {
      "image/png": "[encoded data removed]",
      "text/plain": [
       "<Figure size 432x288 with 1 Axes>"
      ]
     },
     "metadata": {
      "needs_background": "light"
     },
     "output_type": "display_data"
    },
    {
     "data": {
      "image/png": "[encoded data removed]",
      "text/plain": [
       "<Figure size 432x288 with 1 Axes>"
      ]
     },
     "metadata": {
      "needs_background": "light"
     },
     "output_type": "display_data"
    },
    {
     "data": {
      "image/png": "[encoded data removed]",
      "text/plain": [
       "<Figure size 432x288 with 1 Axes>"
      ]
     },
     "metadata": {
      "needs_background": "light"
     },
     "output_type": "display_data"
    },
    {
     "data": {
      "image/png": "[encoded data removed]",
      "text/plain": [
       "<Figure size 1080x504 with 1 Axes>"
      ]
     },
     "metadata": {
      "needs_background": "light"
     },
     "output_type": "display_data"
    },
    {
     "data": {
      "image/png": "[encoded data removed]",
      "text/plain": [
       "<Figure size 1080x504 with 1 Axes>"
      ]
     },
     "metadata": {
      "needs_background": "light"
     },
     "output_type": "display_data"
    },
    {
     "data": {
      "image/png": "[encoded data removed]",
      "text/plain": [
       "<Figure size 1080x504 with 1 Axes>"
      ]
     },
     "metadata": {
      "needs_background": "light"
     },
     "output_type": "display_data"
    },
    {
     "data": {
      "image/png": "[encoded data removed]",
      "text/plain": [
       "<Figure size 1080x504 with 1 Axes>"
      ]
     },
     "metadata": {
      "needs_background": "light"
     },
     "output_type": "display_data"
    }
   ],
   "source": [
    "graph(X,'Survived')"
   ]
  },
  {
   "cell_type": "code",
   "execution_count": 285,
   "metadata": {},
   "outputs": [],
   "source": [
    "y = X['Survived']\n",
    "X= X.drop(columns=['Survived'])\n",
    "X_test_f=test_data.drop(columns=['Name','PassengerId','Ticket','Cabin'])\n"
   ]
  },
  {
   "cell_type": "code",
   "execution_count": 286,
   "metadata": {},
   "outputs": [],
   "source": [
    "preprocessor=preprocessing(X)"
   ]
  },
  {
   "cell_type": "code",
   "execution_count": 287,
   "metadata": {},
   "outputs": [],
   "source": [
    "X=preprocessor.fit_transform(X)"
   ]
  },
  {
   "cell_type": "code",
   "execution_count": 288,
   "metadata": {},
   "outputs": [
    {
     "data": {
      "text/plain": [
       "(891, 12)"
      ]
     },
     "execution_count": 288,
     "metadata": {},
     "output_type": "execute_result"
    }
   ],
   "source": [
    "X.shape"
   ]
  },
  {
   "cell_type": "code",
   "execution_count": 289,
   "metadata": {},
   "outputs": [],
   "source": [
    "X_test_f=preprocessor.transform(X_test_f)"
   ]
  },
  {
   "cell_type": "code",
   "execution_count": 290,
   "metadata": {},
   "outputs": [],
   "source": [
    "X_train, X_test, y_train, y_test = train_test_split(X, y,random_state=42,stratify=y)"
   ]
  },
  {
   "cell_type": "code",
   "execution_count": 291,
   "metadata": {},
   "outputs": [
    {
     "name": "stdout",
     "output_type": "stream",
     "text": [
      "Fitting 10 folds for each of 50 candidates, totalling 500 fits\n"
     ]
    },
    {
     "name": "stderr",
     "output_type": "stream",
     "text": [
      "[Parallel(n_jobs=-3)]: Using backend LokyBackend with 4 concurrent workers.\n",
      "[Parallel(n_jobs=-3)]: Done  12 tasks      | elapsed:    0.1s\n",
      "[Parallel(n_jobs=-3)]: Done 376 tasks      | elapsed:    4.6s\n"
     ]
    },
    {
     "name": "stdout",
     "output_type": "stream",
     "text": [
      "Best parameter: {'n_estimators': 81}\n"
     ]
    },
    {
     "name": "stderr",
     "output_type": "stream",
     "text": [
      "[Parallel(n_jobs=-3)]: Done 500 out of 500 | elapsed:    7.5s finished\n"
     ]
    }
   ],
   "source": [
    "mm,bp,bs=training_classification(X_train,y_train,'GBoost',cv=10)\n",
    "print ('Best parameter:', bp)"
   ]
  },
  {
   "cell_type": "code",
   "execution_count": 292,
   "metadata": {},
   "outputs": [],
   "source": [
    "target_names = ['Survived','Not Survived']"
   ]
  },
  {
   "cell_type": "code",
   "execution_count": 293,
   "metadata": {},
   "outputs": [
    {
     "data": {
      "image/png": "[encoded data removed]",
      "text/plain": [
       "<Figure size 576x432 with 2 Axes>"
      ]
     },
     "metadata": {
      "needs_background": "light"
     },
     "output_type": "display_data"
    }
   ],
   "source": [
    "predic = mm.predict(X_test)\n",
    "confm = confusion_matrix(y_test, predic,normalize='true')\n",
    "plot_confusion_matrix(confm,target_names)"
   ]
  },
  {
   "cell_type": "code",
   "execution_count": 294,
   "metadata": {},
   "outputs": [
    {
     "name": "stdout",
     "output_type": "stream",
     "text": [
      "              precision    recall  f1-score   support\n",
      "\n",
      "           0       0.80      0.92      0.85       137\n",
      "           1       0.83      0.63      0.72        86\n",
      "\n",
      "    accuracy                           0.81       223\n",
      "   macro avg       0.81      0.77      0.78       223\n",
      "weighted avg       0.81      0.81      0.80       223\n",
      "\n"
     ]
    }
   ],
   "source": [
    "print(metrics.classification_report(y_test, predic))"
   ]
  },
  {
   "cell_type": "code",
   "execution_count": 295,
   "metadata": {
    "scrolled": true
   },
   "outputs": [
    {
     "data": {
      "text/plain": [
       "[<matplotlib.lines.Line2D at 0x7fd9c923c490>]"
      ]
     },
     "execution_count": 295,
     "metadata": {},
     "output_type": "execute_result"
    },
    {
     "data": {
      "image/png": "[encoded data removed]",
      "text/plain": [
       "<Figure size 432x288 with 1 Axes>"
      ]
     },
     "metadata": {
      "needs_background": "light"
     },
     "output_type": "display_data"
    }
   ],
   "source": [
    "plt.plot(mm.cv_results_['mean_test_accuracy_score'])"
   ]
  },
  {
   "cell_type": "code",
   "execution_count": 296,
   "metadata": {},
   "outputs": [
    {
     "name": "stdout",
     "output_type": "stream",
     "text": [
      "Accuracy: 0.82 (+/- 0.05)\n"
     ]
    }
   ],
   "source": [
    "best_gb=mm.best_estimator_\n",
    "best_gb.fit(X,y)\n",
    "scores=cross_val_score(best_gb, X,y, cv=5,scoring=make_scorer(accuracy_score))\n",
    "print(\"Accuracy: %0.2f (+/- %0.2f)\" % (scores.mean(), scores.std() * 2))"
   ]
  },
  {
   "cell_type": "code",
   "execution_count": 297,
   "metadata": {},
   "outputs": [],
   "source": [
    "y_pred = best_gb.predict(X_test_f)"
   ]
  },
  {
   "cell_type": "code",
   "execution_count": 298,
   "metadata": {},
   "outputs": [
    {
     "data": {
      "text/html": [
       "<div>\n",
       "<style scoped>\n",
       "    .dataframe tbody tr th:only-of-type {\n",
       "        vertical-align: middle;\n",
       "    }\n",
       "\n",
       "    .dataframe tbody tr th {\n",
       "        vertical-align: top;\n",
       "    }\n",
       "\n",
       "    .dataframe thead th {\n",
       "        text-align: right;\n",
       "    }\n",
       "</style>\n",
       "<table border=\"1\" class=\"dataframe\">\n",
       "  <thead>\n",
       "    <tr style=\"text-align: right;\">\n",
       "      <th></th>\n",
       "      <th>PassengerId</th>\n",
       "      <th>Survived</th>\n",
       "    </tr>\n",
       "  </thead>\n",
       "  <tbody>\n",
       "    <tr>\n",
       "      <th>0</th>\n",
       "      <td>892</td>\n",
       "      <td>0</td>\n",
       "    </tr>\n",
       "    <tr>\n",
       "      <th>1</th>\n",
       "      <td>893</td>\n",
       "      <td>0</td>\n",
       "    </tr>\n",
       "    <tr>\n",
       "      <th>2</th>\n",
       "      <td>894</td>\n",
       "      <td>0</td>\n",
       "    </tr>\n",
       "    <tr>\n",
       "      <th>3</th>\n",
       "      <td>895</td>\n",
       "      <td>0</td>\n",
       "    </tr>\n",
       "    <tr>\n",
       "      <th>4</th>\n",
       "      <td>896</td>\n",
       "      <td>0</td>\n",
       "    </tr>\n",
       "    <tr>\n",
       "      <th>5</th>\n",
       "      <td>897</td>\n",
       "      <td>0</td>\n",
       "    </tr>\n",
       "    <tr>\n",
       "      <th>6</th>\n",
       "      <td>898</td>\n",
       "      <td>1</td>\n",
       "    </tr>\n",
       "    <tr>\n",
       "      <th>7</th>\n",
       "      <td>899</td>\n",
       "      <td>0</td>\n",
       "    </tr>\n",
       "    <tr>\n",
       "      <th>8</th>\n",
       "      <td>900</td>\n",
       "      <td>1</td>\n",
       "    </tr>\n",
       "    <tr>\n",
       "      <th>9</th>\n",
       "      <td>901</td>\n",
       "      <td>0</td>\n",
       "    </tr>\n",
       "    <tr>\n",
       "      <th>10</th>\n",
       "      <td>902</td>\n",
       "      <td>0</td>\n",
       "    </tr>\n",
       "    <tr>\n",
       "      <th>11</th>\n",
       "      <td>903</td>\n",
       "      <td>0</td>\n",
       "    </tr>\n",
       "    <tr>\n",
       "      <th>12</th>\n",
       "      <td>904</td>\n",
       "      <td>1</td>\n",
       "    </tr>\n",
       "    <tr>\n",
       "      <th>13</th>\n",
       "      <td>905</td>\n",
       "      <td>0</td>\n",
       "    </tr>\n",
       "    <tr>\n",
       "      <th>14</th>\n",
       "      <td>906</td>\n",
       "      <td>1</td>\n",
       "    </tr>\n",
       "    <tr>\n",
       "      <th>15</th>\n",
       "      <td>907</td>\n",
       "      <td>1</td>\n",
       "    </tr>\n",
       "    <tr>\n",
       "      <th>16</th>\n",
       "      <td>908</td>\n",
       "      <td>0</td>\n",
       "    </tr>\n",
       "    <tr>\n",
       "      <th>17</th>\n",
       "      <td>909</td>\n",
       "      <td>0</td>\n",
       "    </tr>\n",
       "    <tr>\n",
       "      <th>18</th>\n",
       "      <td>910</td>\n",
       "      <td>0</td>\n",
       "    </tr>\n",
       "    <tr>\n",
       "      <th>19</th>\n",
       "      <td>911</td>\n",
       "      <td>1</td>\n",
       "    </tr>\n",
       "  </tbody>\n",
       "</table>\n",
       "</div>"
      ],
      "text/plain": [
       "    PassengerId  Survived\n",
       "0           892         0\n",
       "1           893         0\n",
       "2           894         0\n",
       "3           895         0\n",
       "4           896         0\n",
       "5           897         0\n",
       "6           898         1\n",
       "7           899         0\n",
       "8           900         1\n",
       "9           901         0\n",
       "10          902         0\n",
       "11          903         0\n",
       "12          904         1\n",
       "13          905         0\n",
       "14          906         1\n",
       "15          907         1\n",
       "16          908         0\n",
       "17          909         0\n",
       "18          910         0\n",
       "19          911         1"
      ]
     },
     "execution_count": 298,
     "metadata": {},
     "output_type": "execute_result"
    }
   ],
   "source": [
    "solution = pd.DataFrame({\"PassengerId\":test_data.PassengerId.unique(), \"Survived\":y_pred})\n",
    "solution.head(20)"
   ]
  },
  {
   "cell_type": "code",
   "execution_count": 222,
   "metadata": {},
   "outputs": [],
   "source": [
    "solution.to_csv(\"solution_gb.csv\", index=False)"
   ]
  },
  {
   "cell_type": "code",
   "execution_count": 223,
   "metadata": {},
   "outputs": [
    {
     "name": "stdout",
     "output_type": "stream",
     "text": [
      "100%|████████████████████████████████████████| 2.77k/2.77k [00:03<00:00, 773B/s]\n",
      "Successfully submitted to Titanic - Machine Learning from Disaster"
     ]
    }
   ],
   "source": [
    "!kaggle competitions submit -c titanic -f solution_gb.csv -m \"GradientBoosting and more preprocessing\""
   ]
  },
  {
   "cell_type": "code",
   "execution_count": null,
   "metadata": {},
   "outputs": [],
   "source": []
  }
 ],
 "metadata": {
  "kernelspec": {
   "display_name": "Python 3",
   "language": "python",
   "name": "python3"
  },
  "language_info": {
   "codemirror_mode": {
    "name": "ipython",
    "version": 3
   },
   "file_extension": ".py",
   "mimetype": "text/x-python",
   "name": "python",
   "nbconvert_exporter": "python",
   "pygments_lexer": "ipython3",
   "version": "3.8.5"
  }
 },
 "nbformat": 4,
 "nbformat_minor": 4
}
